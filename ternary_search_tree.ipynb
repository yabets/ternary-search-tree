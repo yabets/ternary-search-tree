{
 "cells": [
  {
   "cell_type": "markdown",
   "id": "ba0f2afb-5d42-438b-86fc-03a36651e3df",
   "metadata": {},
   "source": [
    "A ternary search tree has nodes with the following attributes:\n",
    "* a character, can be `None`;\n",
    "* a Boolean flag that indicates whether the character represented\n",
    "  by this node has been the last in a string that was inserted in the\n",
    "  tree;\n",
    "* the \"less-than\" child;\n",
    "* the \"equals\" child and\n",
    "* the \"larger-than\" child.\n",
    "\n",
    "The data structure should support the following operations:\n",
    "* string insert\n",
    "* string search\n",
    "* prefix string search\n",
    "* return the number of strings stored in the data structure\n",
    "* return all strings stored in the data structure\n",
    "\n",
    "Also ensure that an instance of the data structure can be visualy represented, e.g., in aSCII format."
   ]
  },
  {
   "cell_type": "markdown",
   "id": "e24e0d90-56fa-4aed-a031-bb252cf55300",
   "metadata": {},
   "source": [
    "# Implementation"
   ]
  },
  {
   "cell_type": "code",
   "id": "2e38f69e-5b57-4ae7-85ce-c1f65d6d3673",
   "metadata": {
    "ExecuteTime": {
     "end_time": "2025-08-23T13:32:46.017869Z",
     "start_time": "2025-08-23T13:32:45.981169Z"
    }
   },
   "source": [
    "%load_ext autoreload\n",
    "%autoreload 2"
   ],
   "outputs": [
    {
     "name": "stdout",
     "output_type": "stream",
     "text": [
      "The autoreload extension is already loaded. To reload it, use:\n",
      "  %reload_ext autoreload\n"
     ]
    }
   ],
   "execution_count": 84
  },
  {
   "cell_type": "markdown",
   "id": "c4e0a12a-37c0-4ed0-8bd3-225764f59f4c",
   "metadata": {},
   "source": [
    "The data structure has been implemented as a class."
   ]
  },
  {
   "cell_type": "code",
   "id": "63f8d683-29d5-4e4d-bff8-d9264f5a18aa",
   "metadata": {
    "tags": [],
    "ExecuteTime": {
     "end_time": "2025-08-23T13:32:46.052026Z",
     "start_time": "2025-08-23T13:32:46.023647Z"
    }
   },
   "source": [
    "from ternary_search_tree import TernarySearchTree"
   ],
   "outputs": [],
   "execution_count": 85
  },
  {
   "cell_type": "markdown",
   "id": "29c9a229-e99c-4db0-afff-8623495b0d0f",
   "metadata": {
    "tags": []
   },
   "source": [
    "# Example usage"
   ]
  },
  {
   "cell_type": "markdown",
   "id": "0df14272-c232-49cf-bacb-bdfe92d1801e",
   "metadata": {},
   "source": [
    "Create a new empty ternery search tree."
   ]
  },
  {
   "cell_type": "code",
   "id": "1497b163-80f4-4615-9b96-de0d0d94bab4",
   "metadata": {
    "tags": [],
    "ExecuteTime": {
     "end_time": "2025-08-23T13:32:46.099282Z",
     "start_time": "2025-08-23T13:32:46.058765Z"
    }
   },
   "source": [
    "tst = TernarySearchTree()"
   ],
   "outputs": [],
   "execution_count": 86
  },
  {
   "cell_type": "markdown",
   "id": "0f4fab8f-f1f8-4e90-b533-ceec45b60dcb",
   "metadata": {},
   "source": [
    "Insert the string `'abc'` into the tree."
   ]
  },
  {
   "cell_type": "code",
   "id": "3b159de7-9668-4814-9d52-92ddd95736c8",
   "metadata": {
    "tags": [],
    "ExecuteTime": {
     "end_time": "2025-08-23T13:32:46.133977Z",
     "start_time": "2025-08-23T13:32:46.106027Z"
    }
   },
   "source": [
    "tst.insert('abc')"
   ],
   "outputs": [],
   "execution_count": 87
  },
  {
   "cell_type": "markdown",
   "id": "5f3cbbf6-256e-4e36-815f-49fa9bbba3c8",
   "metadata": {},
   "source": [
    "Display the tree."
   ]
  },
  {
   "cell_type": "code",
   "id": "596f3312-7d0f-42d2-9ea2-a50d81f7d8be",
   "metadata": {
    "tags": [],
    "ExecuteTime": {
     "end_time": "2025-08-23T13:32:46.172833Z",
     "start_time": "2025-08-23T13:32:46.142168Z"
    }
   },
   "source": [
    "print(tst)"
   ],
   "outputs": [
    {
     "name": "stdout",
     "output_type": "stream",
     "text": [
      "terminates: False\n",
      "_gt  char: a, terminates: False\n",
      "_eq    char: b, terminates: False\n",
      "_eq      char: c, terminates: True\n"
     ]
    }
   ],
   "execution_count": 88
  },
  {
   "cell_type": "markdown",
   "id": "e76a848b-88a8-4b2e-8ee7-e93bb64ecff0",
   "metadata": {},
   "source": [
    "Insert another string `'aqt'`."
   ]
  },
  {
   "cell_type": "code",
   "id": "d59f3ef9-0523-4c20-a2fa-073165a35d5e",
   "metadata": {
    "tags": [],
    "ExecuteTime": {
     "end_time": "2025-08-23T13:32:46.208093Z",
     "start_time": "2025-08-23T13:32:46.178977Z"
    }
   },
   "source": [
    "tst.insert('aqt')"
   ],
   "outputs": [],
   "execution_count": 89
  },
  {
   "cell_type": "code",
   "id": "a6a40c5d-e3e4-4104-ab0a-308a4ccdb5e1",
   "metadata": {
    "tags": [],
    "ExecuteTime": {
     "end_time": "2025-08-23T13:32:46.247615Z",
     "start_time": "2025-08-23T13:32:46.216400Z"
    }
   },
   "source": [
    "print(tst)"
   ],
   "outputs": [
    {
     "name": "stdout",
     "output_type": "stream",
     "text": [
      "terminates: False\n",
      "_gt  char: a, terminates: False\n",
      "_eq    char: b, terminates: False\n",
      "_eq      char: c, terminates: True\n",
      "_gt      char: q, terminates: False\n",
      "_eq        char: t, terminates: True\n"
     ]
    }
   ],
   "execution_count": 90
  },
  {
   "cell_type": "markdown",
   "id": "d3b133d1-b878-4e57-a2c9-17c44ba186cb",
   "metadata": {},
   "source": [
    "The tree should now contain two strings."
   ]
  },
  {
   "cell_type": "code",
   "id": "45c03393-62ad-43e1-8667-5847d338d740",
   "metadata": {
    "tags": [],
    "ExecuteTime": {
     "end_time": "2025-08-23T13:32:46.287044Z",
     "start_time": "2025-08-23T13:32:46.255941Z"
    }
   },
   "source": [
    "len(tst)"
   ],
   "outputs": [
    {
     "data": {
      "text/plain": [
       "2"
      ]
     },
     "execution_count": 91,
     "metadata": {},
     "output_type": "execute_result"
    }
   ],
   "execution_count": 91
  },
  {
   "cell_type": "code",
   "id": "1713d80e-e2e1-42b7-b1e0-cdc70aec6ceb",
   "metadata": {
    "ExecuteTime": {
     "end_time": "2025-08-23T13:32:46.326157Z",
     "start_time": "2025-08-23T13:32:46.295331Z"
    }
   },
   "source": [
    "tst.all_strings()"
   ],
   "outputs": [
    {
     "data": {
      "text/plain": [
       "['abc', 'aqt']"
      ]
     },
     "execution_count": 92,
     "metadata": {},
     "output_type": "execute_result"
    }
   ],
   "execution_count": 92
  },
  {
   "cell_type": "markdown",
   "id": "7350133c-1484-485f-a8dc-1cac2c462ec7",
   "metadata": {},
   "source": [
    "Search for the string `'ab'`, it should be found since it is a prefix of `'abc'`."
   ]
  },
  {
   "cell_type": "code",
   "id": "ddd71cf3-f887-4939-bae7-4a1c0a85a9e2",
   "metadata": {
    "tags": [],
    "ExecuteTime": {
     "end_time": "2025-08-23T13:32:46.365667Z",
     "start_time": "2025-08-23T13:32:46.333700Z"
    }
   },
   "source": [
    "tst.search('ab')"
   ],
   "outputs": [
    {
     "data": {
      "text/plain": [
       "True"
      ]
     },
     "execution_count": 93,
     "metadata": {},
     "output_type": "execute_result"
    }
   ],
   "execution_count": 93
  },
  {
   "cell_type": "markdown",
   "id": "45443693-ae5a-4584-bab2-7c20e8331dcc",
   "metadata": {},
   "source": [
    "The string `'ac'` should not be found."
   ]
  },
  {
   "cell_type": "code",
   "id": "3756d5c9-0286-463a-8962-a0878ec067e2",
   "metadata": {
    "tags": [],
    "ExecuteTime": {
     "end_time": "2025-08-23T13:32:46.405537Z",
     "start_time": "2025-08-23T13:32:46.372884Z"
    }
   },
   "source": [
    "tst.search('ac')"
   ],
   "outputs": [
    {
     "data": {
      "text/plain": [
       "False"
      ]
     },
     "execution_count": 94,
     "metadata": {},
     "output_type": "execute_result"
    }
   ],
   "execution_count": 94
  },
  {
   "cell_type": "markdown",
   "id": "c244f370-77fa-4291-bc8d-b8a4e4c3a680",
   "metadata": {},
   "source": [
    "The tree can also contain the empty string."
   ]
  },
  {
   "cell_type": "code",
   "id": "66a3fdd6-bb30-42ec-9f2e-73c880b40209",
   "metadata": {
    "tags": [],
    "ExecuteTime": {
     "end_time": "2025-08-23T13:32:46.439809Z",
     "start_time": "2025-08-23T13:32:46.410895Z"
    }
   },
   "source": [
    "tst.insert('')"
   ],
   "outputs": [],
   "execution_count": 95
  },
  {
   "cell_type": "code",
   "id": "b94f344b-2c62-4b75-95e0-d79f609072fd",
   "metadata": {
    "tags": [],
    "ExecuteTime": {
     "end_time": "2025-08-23T13:32:46.478972Z",
     "start_time": "2025-08-23T13:32:46.447656Z"
    }
   },
   "source": [
    "len(tst)"
   ],
   "outputs": [
    {
     "data": {
      "text/plain": [
       "3"
      ]
     },
     "execution_count": 96,
     "metadata": {},
     "output_type": "execute_result"
    }
   ],
   "execution_count": 96
  },
  {
   "cell_type": "code",
   "id": "be2221c7-57af-449c-b235-4b9257b98229",
   "metadata": {
    "tags": [],
    "ExecuteTime": {
     "end_time": "2025-08-23T13:32:46.517123Z",
     "start_time": "2025-08-23T13:32:46.486472Z"
    }
   },
   "source": [
    "print(tst)"
   ],
   "outputs": [
    {
     "name": "stdout",
     "output_type": "stream",
     "text": [
      "terminates: True\n",
      "_gt  char: a, terminates: False\n",
      "_eq    char: b, terminates: False\n",
      "_eq      char: c, terminates: True\n",
      "_gt      char: q, terminates: False\n",
      "_eq        char: t, terminates: True\n"
     ]
    }
   ],
   "execution_count": 97
  },
  {
   "cell_type": "code",
   "id": "024e8ed2-b336-4234-8131-cd695864cf9f",
   "metadata": {
    "ExecuteTime": {
     "end_time": "2025-08-23T13:32:46.554665Z",
     "start_time": "2025-08-23T13:32:46.524483Z"
    }
   },
   "source": [
    "tst.all_strings()"
   ],
   "outputs": [
    {
     "data": {
      "text/plain": [
       "['', 'abc', 'aqt']"
      ]
     },
     "execution_count": 98,
     "metadata": {},
     "output_type": "execute_result"
    }
   ],
   "execution_count": 98
  },
  {
   "cell_type": "markdown",
   "id": "1fee5f92-87e7-4ddb-b6e0-9001d4084faf",
   "metadata": {},
   "source": [
    "# Testing"
   ]
  },
  {
   "cell_type": "markdown",
   "id": "0f641fa7-aaf7-406e-813b-4a84645ca2fb",
   "metadata": {},
   "source": [
    "The file `data/search_trees/insert_words.txt` contains words that we can insert into a tree."
   ]
  },
  {
   "cell_type": "code",
   "id": "19431f68-eafd-4e62-a410-06a7c7ec4168",
   "metadata": {
    "tags": [],
    "ExecuteTime": {
     "end_time": "2025-08-23T13:32:46.592750Z",
     "start_time": "2025-08-23T13:32:46.561119Z"
    }
   },
   "source": [
    "tst = TernarySearchTree()\n",
    "with open('data/search_trees/insert_words.txt') as file:\n",
    "    words = [\n",
    "        line.strip() for line in file\n",
    "    ]\n",
    "for word in words:\n",
    "    tst.insert(word)\n",
    "unique_words = set(words)"
   ],
   "outputs": [],
   "execution_count": 99
  },
  {
   "cell_type": "markdown",
   "id": "09ff039a-3780-4ef8-bed7-e6da0715800a",
   "metadata": {},
   "source": [
    "Verify the length of the data stucture."
   ]
  },
  {
   "cell_type": "code",
   "id": "18090742-7a3a-400a-a077-e2904901a123",
   "metadata": {
    "tags": [],
    "ExecuteTime": {
     "end_time": "2025-08-23T13:32:46.627107Z",
     "start_time": "2025-08-23T13:32:46.599250Z"
    }
   },
   "source": [
    "assert len(tst) == len(unique_words), \\\n",
    "       f'{len(tst)} in tree, expected {len(unique_words)}'"
   ],
   "outputs": [],
   "execution_count": 100
  },
  {
   "cell_type": "markdown",
   "id": "3715acd0-09b0-4d1d-9b1b-c33c7cca6ec9",
   "metadata": {},
   "source": [
    "Verify that all words that were inserted can be found."
   ]
  },
  {
   "cell_type": "code",
   "id": "83fd3f2d-13ef-4cf9-9631-2f7550939efb",
   "metadata": {
    "tags": [],
    "ExecuteTime": {
     "end_time": "2025-08-23T13:32:46.660653Z",
     "start_time": "2025-08-23T13:32:46.633159Z"
    }
   },
   "source": [
    "for word in unique_words:\n",
    "    assert tst.search(word), f'{word} not found'"
   ],
   "outputs": [],
   "execution_count": 101
  },
  {
   "cell_type": "markdown",
   "id": "914240b6-1980-4436-9596-991258aac0d1",
   "metadata": {},
   "source": [
    "Verify that all prefixes can be found."
   ]
  },
  {
   "cell_type": "code",
   "id": "7b320bc5-d544-4aa2-82f7-549eef526757",
   "metadata": {
    "tags": [],
    "ExecuteTime": {
     "end_time": "2025-08-23T13:32:46.694483Z",
     "start_time": "2025-08-23T13:32:46.666306Z"
    }
   },
   "source": [
    "for word in unique_words:\n",
    "    for i in range(len(word) - 1, 0, -1):\n",
    "        prefix = word[:i]\n",
    "        assert tst.search(prefix), f'{prefix} not found'"
   ],
   "outputs": [],
   "execution_count": 102
  },
  {
   "cell_type": "markdown",
   "id": "5e67261a-0260-451c-b975-5406458b7fc9",
   "metadata": {},
   "source": [
    "Chack that when searching for a exact match, only the inserted words are found, and no prefixes."
   ]
  },
  {
   "cell_type": "code",
   "id": "c15f2bf1-e026-468d-86f1-b7bf7d4857a0",
   "metadata": {
    "tags": [],
    "ExecuteTime": {
     "end_time": "2025-08-23T13:32:46.729812Z",
     "start_time": "2025-08-23T13:32:46.700435Z"
    }
   },
   "source": [
    "for word in unique_words:\n",
    "    for i in range(len(word), 0, -1):\n",
    "        prefix = word[:i]\n",
    "        if prefix not in unique_words:\n",
    "            assert not tst.search(prefix, exact=True), \\\n",
    "                   f'{prefix} found'"
   ],
   "outputs": [],
   "execution_count": 103
  },
  {
   "cell_type": "markdown",
   "id": "63ce21af-9e38-473e-9bfa-572fc00beb7d",
   "metadata": {},
   "source": [
    "Check that the empty string is in the tree (since it is a prefix of any string)."
   ]
  },
  {
   "cell_type": "code",
   "id": "02796895-029a-4f1f-aebe-19315b5a7964",
   "metadata": {
    "tags": [],
    "ExecuteTime": {
     "end_time": "2025-08-23T13:32:46.777675Z",
     "start_time": "2025-08-23T13:32:46.748847Z"
    }
   },
   "source": [
    "assert tst.search(''), 'empty string not found'"
   ],
   "outputs": [],
   "execution_count": 104
  },
  {
   "cell_type": "markdown",
   "id": "21485551-72ef-448f-a473-8fd94063a98a",
   "metadata": {},
   "source": [
    "Check that the empty string is not in the tree for an exact search."
   ]
  },
  {
   "cell_type": "code",
   "id": "b3f7943c-ccc0-414a-a4bd-90398a09a829",
   "metadata": {
    "tags": [],
    "ExecuteTime": {
     "end_time": "2025-08-23T13:32:46.811048Z",
     "start_time": "2025-08-23T13:32:46.783407Z"
    }
   },
   "source": [
    "assert not tst.search('', exact=True), 'empty string found'"
   ],
   "outputs": [],
   "execution_count": 105
  },
  {
   "cell_type": "markdown",
   "id": "122ef82d-a23d-4245-899f-b070e0b13b0a",
   "metadata": {},
   "source": [
    "Check that words in the file `data/search_trees/not_insert_words.txt` can not be found in the tree."
   ]
  },
  {
   "cell_type": "code",
   "id": "90ea39d5-5c96-4e79-8dc8-80c55de1cea2",
   "metadata": {
    "tags": [],
    "ExecuteTime": {
     "end_time": "2025-08-23T13:32:46.845096Z",
     "start_time": "2025-08-23T13:32:46.816900Z"
    }
   },
   "source": [
    "with open('data/search_trees/not_insert_words.txt') as file:\n",
    "    for line in file:\n",
    "        word = line.strip()\n",
    "        assert not tst.search(word), f'{word} should not be found'"
   ],
   "outputs": [],
   "execution_count": 106
  },
  {
   "cell_type": "markdown",
   "id": "bc93c3f1-a829-484c-a11d-d598914c3b8f",
   "metadata": {},
   "source": [
    "Check that all strings are returned."
   ]
  },
  {
   "cell_type": "code",
   "id": "c09d0cab-02db-452e-8ac1-837e108ab63d",
   "metadata": {
    "ExecuteTime": {
     "end_time": "2025-08-23T13:32:46.878817Z",
     "start_time": "2025-08-23T13:32:46.851064Z"
    }
   },
   "source": [
    "all_strings = tst.all_strings()\n",
    "assert len(all_strings) == len(unique_words), \\\n",
    "       f'{len(all_strings)} words, expected {len(unique_words)}'\n",
    "assert sorted(all_strings) == sorted(unique_words), 'words do not match'"
   ],
   "outputs": [],
   "execution_count": 107
  },
  {
   "cell_type": "markdown",
   "id": "4243d5d6-60d5-4f1b-857b-f26a4b1216a1",
   "metadata": {},
   "source": [
    "If not output was generated, all tests have passed."
   ]
  },
  {
   "metadata": {},
   "cell_type": "markdown",
   "source": "# Performance",
   "id": "bf82aa41ae023779"
  },
  {
   "metadata": {},
   "cell_type": "markdown",
   "source": "To assess the performance, i.e., the time it takes to insert a new string or search the ternary search tree as a function of the tree's size, we need a large dataset. This is provided in data/search_trees/corncob_lowercase.txt. This file contains over 58,000 English words, all lower case.",
   "id": "a0286769815cce50"
  },
  {
   "metadata": {
    "ExecuteTime": {
     "end_time": "2025-08-23T13:32:46.920613Z",
     "start_time": "2025-08-23T13:32:46.884288Z"
    }
   },
   "cell_type": "code",
   "source": [
    "with open('data/search_trees/corncob_lowercase.txt') as file:\n",
    "    words = [line.strip() for line in file]"
   ],
   "id": "e2566e61d97bc06",
   "outputs": [],
   "execution_count": 108
  },
  {
   "metadata": {
    "ExecuteTime": {
     "end_time": "2025-08-23T13:32:46.970658Z",
     "start_time": "2025-08-23T13:32:46.939262Z"
    }
   },
   "cell_type": "code",
   "source": "len(words)",
   "id": "773d37d69fd3ccb0",
   "outputs": [
    {
     "data": {
      "text/plain": [
       "58110"
      ]
     },
     "execution_count": 109,
     "metadata": {},
     "output_type": "execute_result"
    }
   ],
   "execution_count": 109
  },
  {
   "metadata": {
    "ExecuteTime": {
     "end_time": "2025-08-23T13:32:47.021979Z",
     "start_time": "2025-08-23T13:32:46.991399Z"
    }
   },
   "cell_type": "code",
   "source": [
    "import random\n",
    "import time"
   ],
   "id": "d793cfad79c46c57",
   "outputs": [],
   "execution_count": 110
  },
  {
   "metadata": {
    "ExecuteTime": {
     "end_time": "2025-08-23T13:32:47.056585Z",
     "start_time": "2025-08-23T13:32:47.027175Z"
    }
   },
   "cell_type": "code",
   "source": "sizes = [100, 500, 1_000, 5_000, 10_000, 20_000, 30_000, 40_000, 50_000]",
   "id": "9047da9fa0399ac3",
   "outputs": [],
   "execution_count": 111
  },
  {
   "metadata": {
    "ExecuteTime": {
     "end_time": "2025-08-23T13:32:47.131098Z",
     "start_time": "2025-08-23T13:32:47.062567Z"
    }
   },
   "cell_type": "code",
   "source": [
    "samples = [\n",
    "    random.sample(words, k=size) for size in sizes\n",
    "]"
   ],
   "id": "6788f44dc77d65a4",
   "outputs": [],
   "execution_count": 112
  },
  {
   "metadata": {},
   "cell_type": "markdown",
   "source": "We can now time how long it takes to insert words into a Ternary Search Tree of various sizes. First we build the TST based on the sample, and then we insert words.",
   "id": "e9d29409c4ed8d3"
  },
  {
   "metadata": {
    "ExecuteTime": {
     "end_time": "2025-08-23T13:32:48.096523Z",
     "start_time": "2025-08-23T13:32:47.139514Z"
    }
   },
   "cell_type": "code",
   "source": [
    "nr_runs = 10\n",
    "times = {}\n",
    "insert_sample = random.sample(words, k=20)\n",
    "for sample in samples:\n",
    "    tst = TernarySearchTree()\n",
    "    for word in sample:\n",
    "        tst.insert(word)\n",
    "    times[len(sample)] = 0.0\n",
    "    for _ in range(nr_runs):\n",
    "        start_time = time.time_ns()\n",
    "        for word in insert_sample:\n",
    "            tst.insert(word)\n",
    "        end_time = time.time_ns()\n",
    "        times[len(sample)] += end_time - start_time\n",
    "    times[len(sample)] /= nr_runs*1_000_000.0\n",
    "times"
   ],
   "id": "e4c1e3acb79ab8dd",
   "outputs": [
    {
     "data": {
      "text/plain": [
       "{100: 0.03317,\n",
       " 500: 0.03344,\n",
       " 1000: 0.03344,\n",
       " 5000: 0.0392,\n",
       " 10000: 0.05372,\n",
       " 20000: 0.0402,\n",
       " 30000: 0.27226,\n",
       " 40000: 0.04001,\n",
       " 50000: 0.04228}"
      ]
     },
     "execution_count": 113,
     "metadata": {},
     "output_type": "execute_result"
    }
   ],
   "execution_count": 113
  },
  {
   "metadata": {
    "ExecuteTime": {
     "end_time": "2025-08-23T13:32:48.437599Z",
     "start_time": "2025-08-23T13:32:48.409186Z"
    }
   },
   "cell_type": "code",
   "source": "import matplotlib.pyplot as plt",
   "id": "a320c03f70acf6c8",
   "outputs": [],
   "execution_count": 114
  },
  {
   "metadata": {
    "ExecuteTime": {
     "end_time": "2025-08-23T13:32:48.549804Z",
     "start_time": "2025-08-23T13:32:48.446832Z"
    }
   },
   "cell_type": "code",
   "source": "plt.plot(times.keys(), times.values());",
   "id": "4f70e7266296f894",
   "outputs": [
    {
     "data": {
      "text/plain": [
       "<Figure size 640x480 with 1 Axes>"
      ],
      "image/png": "[encoded data removed]"
     },
     "metadata": {},
     "output_type": "display_data"
    }
   ],
   "execution_count": 115
  },
  {
   "metadata": {},
   "cell_type": "markdown",
   "source": "We can do the same for searching words in a B-tree of various sizes. First we build the B-tree based on the sample, and then we search words.",
   "id": "e55541c074e3b32f"
  },
  {
   "metadata": {
    "ExecuteTime": {
     "end_time": "2025-08-23T13:32:49.311071Z",
     "start_time": "2025-08-23T13:32:48.559241Z"
    }
   },
   "cell_type": "code",
   "source": [
    "nr_runs = 10\n",
    "times = {}\n",
    "search_sample = random.sample(words, k=20)\n",
    "for sample in samples:\n",
    "    tst = TernarySearchTree()\n",
    "    for word in sample:\n",
    "        tst.insert(word)\n",
    "    times[len(sample)] = 0.0\n",
    "    for _ in range(nr_runs):\n",
    "        start_time = time.time_ns()\n",
    "        for word in search_sample:\n",
    "            tst.search(word)\n",
    "        end_time = time.time_ns()\n",
    "        times[len(sample)] += end_time - start_time\n",
    "    times[len(sample)] /= nr_runs*1_000_000.0\n",
    "times"
   ],
   "id": "d265e9b422e88465",
   "outputs": [
    {
     "data": {
      "text/plain": [
       "{100: 0.01296,\n",
       " 500: 0.01525,\n",
       " 1000: 0.01645,\n",
       " 5000: 0.02379,\n",
       " 10000: 0.02642,\n",
       " 20000: 0.0282,\n",
       " 30000: 0.0298,\n",
       " 40000: 0.02937,\n",
       " 50000: 0.03081}"
      ]
     },
     "execution_count": 116,
     "metadata": {},
     "output_type": "execute_result"
    }
   ],
   "execution_count": 116
  },
  {
   "metadata": {
    "ExecuteTime": {
     "end_time": "2025-08-23T13:32:49.408540Z",
     "start_time": "2025-08-23T13:32:49.317710Z"
    }
   },
   "cell_type": "code",
   "source": "plt.plot(times.keys(), times.values());",
   "id": "403edef60b3d6a6f",
   "outputs": [
    {
     "data": {
      "text/plain": [
       "<Figure size 640x480 with 1 Axes>"
      ],
      "image/png": "[encoded data removed]"
     },
     "metadata": {},
     "output_type": "display_data"
    }
   ],
   "execution_count": 117
  },
  {
   "metadata": {
    "ExecuteTime": {
     "end_time": "2025-08-23T13:32:50.219606Z",
     "start_time": "2025-08-23T13:32:49.416647Z"
    }
   },
   "cell_type": "code",
   "source": [
    "nr_runs = 10\n",
    "times = {}\n",
    "for sample in samples:\n",
    "    tst = TernarySearchTree()\n",
    "    for word in sample:\n",
    "        tst.insert(word)\n",
    "    times[len(sample)] = 0.0\n",
    "    for _ in range(nr_runs):\n",
    "        search_sample = random.sample(sample, k=20)\n",
    "        start_time = time.time_ns()\n",
    "        for word in search_sample:\n",
    "            tst.search(word)\n",
    "        end_time = time.time_ns()\n",
    "        times[len(sample)] += end_time - start_time\n",
    "    times[len(sample)] /= nr_runs*1_000_000.0\n",
    "times"
   ],
   "id": "b02d8ec9e2c94030",
   "outputs": [
    {
     "data": {
      "text/plain": [
       "{100: 0.02509,\n",
       " 500: 0.02522,\n",
       " 1000: 0.0249,\n",
       " 5000: 0.03406,\n",
       " 10000: 0.04029,\n",
       " 20000: 0.03555,\n",
       " 30000: 0.03795,\n",
       " 40000: 0.04146,\n",
       " 50000: 0.04211}"
      ]
     },
     "execution_count": 118,
     "metadata": {},
     "output_type": "execute_result"
    }
   ],
   "execution_count": 118
  },
  {
   "metadata": {
    "ExecuteTime": {
     "end_time": "2025-08-23T13:32:50.321016Z",
     "start_time": "2025-08-23T13:32:50.226532Z"
    }
   },
   "cell_type": "code",
   "source": "plt.plot(times.keys(), times.values());",
   "id": "959bbef81cd9de8c",
   "outputs": [
    {
     "data": {
      "text/plain": [
       "<Figure size 640x480 with 1 Axes>"
      ],
      "image/png": "[encoded data removed]"
     },
     "metadata": {},
     "output_type": "display_data"
    }
   ],
   "execution_count": 119
  },
  {
   "metadata": {},
   "cell_type": "markdown",
   "source": "## Comparison with Btree",
   "id": "b2271f1f72281269"
  },
  {
   "metadata": {
    "ExecuteTime": {
     "end_time": "2025-08-23T13:32:50.368248Z",
     "start_time": "2025-08-23T13:32:50.326423Z"
    }
   },
   "cell_type": "code",
   "source": "from ternary_search_tree import Btree",
   "id": "fc0983314e94b5ef",
   "outputs": [],
   "execution_count": 120
  },
  {
   "metadata": {
    "ExecuteTime": {
     "end_time": "2025-08-23T13:32:50.457248Z",
     "start_time": "2025-08-23T13:32:50.399153Z"
    }
   },
   "cell_type": "code",
   "source": [
    "with open('data/search_trees/corncob_lowercase.txt') as file:\n",
    "    words = [line.strip() for line in file]\n",
    "random.shuffle(words)"
   ],
   "id": "699addafc9cc0060",
   "outputs": [],
   "execution_count": 121
  },
  {
   "metadata": {
    "ExecuteTime": {
     "end_time": "2025-08-23T13:32:50.495588Z",
     "start_time": "2025-08-23T13:32:50.462992Z"
    }
   },
   "cell_type": "code",
   "source": [
    "hold_out_sample = words[-100:]\n",
    "insert_sample = words[:-100]"
   ],
   "id": "80501c9a53081d0",
   "outputs": [],
   "execution_count": 122
  },
  {
   "metadata": {
    "ExecuteTime": {
     "end_time": "2025-08-23T13:33:00.263791Z",
     "start_time": "2025-08-23T13:32:50.515705Z"
    }
   },
   "cell_type": "code",
   "source": [
    "%%timeit\n",
    "btree = Btree()\n",
    "for word in insert_sample:\n",
    "    btree.insert(word)"
   ],
   "id": "ac077c1539d204bc",
   "outputs": [
    {
     "name": "stdout",
     "output_type": "stream",
     "text": [
      "119 ms ± 4.8 ms per loop (mean ± std. dev. of 7 runs, 10 loops each)\n"
     ]
    }
   ],
   "execution_count": 123
  },
  {
   "metadata": {
    "ExecuteTime": {
     "end_time": "2025-08-23T13:33:14.236527Z",
     "start_time": "2025-08-23T13:33:00.538068Z"
    }
   },
   "cell_type": "code",
   "source": [
    "%%timeit\n",
    "tst = TernarySearchTree()\n",
    "for word in insert_sample:\n",
    "    tst.insert(word)"
   ],
   "id": "1d02bf1f5ddb3583",
   "outputs": [
    {
     "name": "stdout",
     "output_type": "stream",
     "text": [
      "168 ms ± 6.84 ms per loop (mean ± std. dev. of 7 runs, 10 loops each)\n"
     ]
    }
   ],
   "execution_count": 124
  },
  {
   "metadata": {
    "ExecuteTime": {
     "end_time": "2025-08-23T13:33:14.707754Z",
     "start_time": "2025-08-23T13:33:14.512486Z"
    }
   },
   "cell_type": "code",
   "source": [
    "word_btree = Btree()\n",
    "for word in insert_sample:\n",
    "    word_btree.insert(word)"
   ],
   "id": "23b0934034cdc619",
   "outputs": [],
   "execution_count": 125
  },
  {
   "metadata": {
    "ExecuteTime": {
     "end_time": "2025-08-23T13:33:28.582553Z",
     "start_time": "2025-08-23T13:33:14.715782Z"
    }
   },
   "cell_type": "code",
   "source": [
    "%%timeit\n",
    "total = 0\n",
    "for word in hold_out_sample:\n",
    "    if word_btree.search(word):\n",
    "        total += 1"
   ],
   "id": "6e701edc00ebbb4b",
   "outputs": [
    {
     "name": "stdout",
     "output_type": "stream",
     "text": [
      "171 μs ± 3.31 μs per loop (mean ± std. dev. of 7 runs, 10,000 loops each)\n"
     ]
    }
   ],
   "execution_count": 126
  },
  {
   "metadata": {
    "ExecuteTime": {
     "end_time": "2025-08-23T13:33:29.204468Z",
     "start_time": "2025-08-23T13:33:28.856082Z"
    }
   },
   "cell_type": "code",
   "source": [
    "word_tst = TernarySearchTree()\n",
    "for word in insert_sample:\n",
    "    word_tst.insert(word)"
   ],
   "id": "bc586ec0903b456d",
   "outputs": [],
   "execution_count": 127
  },
  {
   "metadata": {
    "ExecuteTime": {
     "end_time": "2025-08-23T13:33:40.301491Z",
     "start_time": "2025-08-23T13:33:29.212388Z"
    }
   },
   "cell_type": "code",
   "source": [
    "%%timeit\n",
    "total = 0\n",
    "for word in hold_out_sample:\n",
    "    if word_tst.search(word):\n",
    "        total += 1"
   ],
   "id": "82f74b8f5d23e5d6",
   "outputs": [
    {
     "name": "stdout",
     "output_type": "stream",
     "text": [
      "136 μs ± 2.26 μs per loop (mean ± std. dev. of 7 runs, 10,000 loops each)\n"
     ]
    }
   ],
   "execution_count": 128
  },
  {
   "metadata": {
    "ExecuteTime": {
     "end_time": "2025-08-23T15:38:41.947576Z",
     "start_time": "2025-08-23T15:38:40.448354Z"
    }
   },
   "cell_type": "code",
   "source": [
    "nr_runs = 10\n",
    "btree_times, tst_times = {}, {}\n",
    "insert_sample = random.sample(words, k=20)\n",
    "for sample in samples:\n",
    "    tst = TernarySearchTree()\n",
    "    btree = Btree()\n",
    "    for word in sample:\n",
    "        tst.insert(word)\n",
    "        btree.insert(word)\n",
    "    tst_times[len(sample)] = 0.0\n",
    "    btree_times[len(sample)] = 0.0\n",
    "    for _ in range(nr_runs):\n",
    "        start_time = time.time_ns()\n",
    "        for word in insert_sample:\n",
    "            tst.insert(word)\n",
    "        end_time = time.time_ns()\n",
    "        tst_times[len(sample)] += end_time - start_time\n",
    "\n",
    "        start_time = time.time_ns()\n",
    "        for word in insert_sample:\n",
    "            btree.insert(word)\n",
    "        end_time = time.time_ns()\n",
    "        btree_times[len(sample)] += end_time - start_time\n",
    "\n",
    "    tst_times[len(sample)] /= nr_runs*1_000_000.0\n",
    "    btree_times[len(sample)] /= nr_runs*1_000_000.0\n"
   ],
   "id": "b6428e2b536f5285",
   "outputs": [],
   "execution_count": 139
  },
  {
   "metadata": {
    "ExecuteTime": {
     "end_time": "2025-08-23T15:38:45.368640Z",
     "start_time": "2025-08-23T15:38:45.133432Z"
    }
   },
   "cell_type": "code",
   "source": [
    "_ = plt.loglog(tst_times.keys(), tst_times.values(), label='Ternary Search Tree')\n",
    "_ = plt.loglog(btree_times.keys(), btree_times.values(), label='BTree')\n",
    "_ = plt.legend()"
   ],
   "id": "a6a1e931aab72cd7",
   "outputs": [
    {
     "data": {
      "text/plain": [
       "<Figure size 640x480 with 1 Axes>"
      ],
      "image/png": "[encoded data removed]"
     },
     "metadata": {},
     "output_type": "display_data"
    }
   ],
   "execution_count": 140
  },
  {
   "metadata": {
    "ExecuteTime": {
     "end_time": "2025-08-23T15:29:41.044159Z",
     "start_time": "2025-08-23T15:29:39.523177Z"
    }
   },
   "cell_type": "code",
   "source": [
    "nr_runs = 10\n",
    "btree_times, tst_times = {}, {}\n",
    "\n",
    "search_sample = random.sample(words, k=20)\n",
    "for sample in samples:\n",
    "    tst = TernarySearchTree()\n",
    "    btree = Btree()\n",
    "    for word in sample:\n",
    "        tst.insert(word)\n",
    "        btree.insert(word)\n",
    "    tst_times[len(sample)] = 0.0\n",
    "    btree_times[len(sample)] = 0.0\n",
    "    for _ in range(nr_runs):\n",
    "        start_time = time.time_ns()\n",
    "        for word in search_sample:\n",
    "            tst.search(word)\n",
    "        end_time = time.time_ns()\n",
    "        tst_times[len(sample)] += end_time - start_time\n",
    "        start_time = time.time_ns()\n",
    "        for word in search_sample:\n",
    "            btree.search(word)\n",
    "        end_time = time.time_ns()\n",
    "        btree_times[len(sample)] += end_time - start_time\n",
    "    tst_times[len(sample)] /= nr_runs*1_000_000.0\n",
    "    btree_times[len(sample)] /= nr_runs*1_000_000.0\n",
    "\n"
   ],
   "id": "50aa5f66171f2523",
   "outputs": [],
   "execution_count": 130
  },
  {
   "metadata": {
    "ExecuteTime": {
     "end_time": "2025-08-23T15:30:55.431936Z",
     "start_time": "2025-08-23T15:30:55.148423Z"
    }
   },
   "cell_type": "code",
   "source": [
    "_ = plt.loglog(tst_times.keys(), tst_times.values(), label='Ternary Search Tree')\n",
    "_ = plt.loglog(btree_times.keys(), btree_times.values(), label='BTree')\n",
    "_ = plt.legend()"
   ],
   "id": "6458bd009bdc0296",
   "outputs": [
    {
     "data": {
      "text/plain": [
       "<Figure size 640x480 with 1 Axes>"
      ],
      "image/png": "[encoded data removed]"
     },
     "metadata": {},
     "output_type": "display_data"
    }
   ],
   "execution_count": 132
  },
  {
   "metadata": {},
   "cell_type": "markdown",
   "source": "Btree performs better on inserts compared to our TernarySearchTree. TernarySearchTree performs better on search",
   "id": "22cf4c9e895f9500"
  }
 ],
 "metadata": {
  "kernelspec": {
   "display_name": "Python 3 (ipykernel)",
   "language": "python",
   "name": "python3"
  },
  "language_info": {
   "codemirror_mode": {
    "name": "ipython",
    "version": 3
   },
   "file_extension": ".py",
   "mimetype": "text/x-python",
   "name": "python",
   "nbconvert_exporter": "python",
   "pygments_lexer": "ipython3",
   "version": "3.11.0"
  }
 },
 "nbformat": 4,
 "nbformat_minor": 5
}
